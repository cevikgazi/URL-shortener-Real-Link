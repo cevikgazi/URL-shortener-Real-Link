{
 "cells": [
  {
   "cell_type": "code",
   "execution_count": 16,
   "metadata": {},
   "outputs": [
    {
     "name": "stdout",
     "output_type": "stream",
     "text": [
      "https://www.google.com\n"
     ]
    }
   ],
   "source": [
    "import requests\n",
    "import os\n",
    "\n",
    "url = \"https://ouo.io/vhgEF\"\n",
    "code = os.path.basename(url)\n",
    "\n",
    "response = requests.get(url)\n",
    "token = response.text.split('name=\"_token\" type=\"hidden\" value=\"')[1].split('\">')[0]\n",
    "ouoio_session = response.cookies.get_dict()['ouoio_session']\n",
    "\n",
    "\n",
    "cookies = {\" ouoio_session\": f\"{ouoio_session}\"}\n",
    "\n",
    "url = f\"https://ouo.io/xreallcygo/{code}\"\n",
    "data = {\"_token\": f\"{token}\"}\n",
    "r = requests.post(url, cookies=cookies, data=data, allow_redirects=False)\n",
    "\n",
    "\n",
    "print(r.text.split('content=\"1;url=')[1].split('\"')[0])"
   ]
  },
  {
   "cell_type": "code",
   "execution_count": null,
   "metadata": {},
   "outputs": [],
   "source": []
  }
 ],
 "metadata": {
  "kernelspec": {
   "display_name": "Python 3",
   "language": "python",
   "name": "python3"
  },
  "language_info": {
   "codemirror_mode": {
    "name": "ipython",
    "version": 3
   },
   "file_extension": ".py",
   "mimetype": "text/x-python",
   "name": "python",
   "nbconvert_exporter": "python",
   "pygments_lexer": "ipython3",
   "version": "3.9.1"
  }
 },
 "nbformat": 4,
 "nbformat_minor": 4
}
