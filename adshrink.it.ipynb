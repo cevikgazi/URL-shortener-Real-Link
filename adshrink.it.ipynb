{
 "cells": [
  {
   "cell_type": "code",
   "execution_count": 17,
   "metadata": {},
   "outputs": [
    {
     "name": "stdout",
     "output_type": "stream",
     "text": [
      "http://s.jetvideo.xyz/Series/Arrow//S04/Arrow.S04E02.720p.BluRay.x264.TagName.mkv\n"
     ]
    }
   ],
   "source": [
    "import requests\n",
    "url = \"https://adshrink.it/yYGyVo\"\n",
    "\n",
    "response = requests.get(url)\n",
    "\n",
    "print(response.text.replace('\\\\','').split('\"metadata\":\"{\"url\":\"')[1].split('\"')[0])"
   ]
  },
  {
   "cell_type": "code",
   "execution_count": null,
   "metadata": {},
   "outputs": [],
   "source": []
  }
 ],
 "metadata": {
  "kernelspec": {
   "display_name": "Python 3",
   "language": "python",
   "name": "python3"
  },
  "language_info": {
   "codemirror_mode": {
    "name": "ipython",
    "version": 3
   },
   "file_extension": ".py",
   "mimetype": "text/x-python",
   "name": "python",
   "nbconvert_exporter": "python",
   "pygments_lexer": "ipython3",
   "version": "3.9.1"
  }
 },
 "nbformat": 4,
 "nbformat_minor": 4
}
